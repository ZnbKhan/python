{
 "cells": [
  {
   "cell_type": "markdown",
   "id": "82c6225d",
   "metadata": {},
   "source": [
    "CONDITIONALS STATMENTS (if, elif, else)"
   ]
  },
  {
   "cell_type": "code",
   "execution_count": 1,
   "id": "2e17e73e",
   "metadata": {},
   "outputs": [
    {
     "name": "stdout",
     "output_type": "stream",
     "text": [
      "I can vote in elections\n"
     ]
    }
   ],
   "source": [
    "## if statment\n",
    "age=20\n",
    "\n",
    "if age>=18:\n",
    "    print(\"I can vote in elections\")"
   ]
  },
  {
   "cell_type": "code",
   "execution_count": 2,
   "id": "e31e5b9a",
   "metadata": {},
   "outputs": [
    {
     "data": {
      "text/plain": [
       "True"
      ]
     },
     "execution_count": 2,
     "metadata": {},
     "output_type": "execute_result"
    }
   ],
   "source": [
    "age>=18"
   ]
  },
  {
   "cell_type": "code",
   "execution_count": 4,
   "id": "d12f38b5",
   "metadata": {},
   "outputs": [
    {
     "name": "stdout",
     "output_type": "stream",
     "text": [
      "You are minor, Go to school and study\n"
     ]
    }
   ],
   "source": [
    "## else\n",
    "\n",
    "age=16\n",
    "if age>=18:\n",
    "    print(\"You are eligible for voting\")\n",
    "else:\n",
    "    print(\"You are minor, Go to school and study\")    \n"
   ]
  },
  {
   "cell_type": "code",
   "execution_count": 6,
   "id": "424e77fa",
   "metadata": {},
   "outputs": [
    {
     "name": "stdout",
     "output_type": "stream",
     "text": [
      "You are a teenager\n"
     ]
    }
   ],
   "source": [
    "## elif\n",
    "## allows to check for multiple conditions\n",
    "\n",
    "age=17\n",
    "if age<13:\n",
    "    print(\"Hey, You are a child\")\n",
    "elif age <18:\n",
    "    print(\"You are a teenager\")\n",
    "else:\n",
    "    print(\"You are an adult\")        "
   ]
  },
  {
   "cell_type": "code",
   "execution_count": 11,
   "id": "c2f3f563",
   "metadata": {},
   "outputs": [
    {
     "name": "stdout",
     "output_type": "stream",
     "text": [
      "Number is positive\n",
      "Number is odd\n"
     ]
    }
   ],
   "source": [
    "## nested condiotionals statments\n",
    "## number, even, odd, negative\n",
    "\n",
    "num=int(input(\"Enter a number\"))\n",
    "\n",
    "if num>=0:\n",
    "    print(\"Number is positive\")\n",
    "    if num%2==0:\n",
    "        print(\"Number is even\")\n",
    "    else:\n",
    "       print(\"Number is odd\")    \n",
    "else:\n",
    "    print(\"number is negative\")       "
   ]
  },
  {
   "cell_type": "code",
   "execution_count": 16,
   "id": "6c417b28",
   "metadata": {},
   "outputs": [
    {
     "name": "stdout",
     "output_type": "stream",
     "text": [
      "2024 is a leap year\n"
     ]
    }
   ],
   "source": [
    "## Use cases practical Example\n",
    "\n",
    "## Determine if a year is leap (any year which is divisible by 4) using nested contion\n",
    "\n",
    "year=int(input(\"Enter an year\"))\n",
    "\n",
    "if year%4==0:\n",
    "    if year%100==0:\n",
    "        if year%400==0:\n",
    "         print(\"Year is leap\")\n",
    "        else:\n",
    "          print(year, \"is not leap year\")    \n",
    "    else:\n",
    "        print(year, \"is a leap year\")      \n",
    "else:\n",
    "    print(year, \"is not leap year\")"
   ]
  },
  {
   "cell_type": "code",
   "execution_count": 26,
   "id": "02775a47",
   "metadata": {},
   "outputs": [
    {
     "name": "stdout",
     "output_type": "stream",
     "text": [
      "remiander:  0.0\n"
     ]
    }
   ],
   "source": [
    "## Assignment \n",
    "## Simple Calculator program\n",
    "num1=float(input(\"Enter a first number\"))\n",
    "num2=float(input(\"Enter a second number\"))\n",
    "operation=input(\"Enter an operation (+,-,*, %, /): \")\n",
    "\n",
    "if operation == '+':\n",
    "    print(\"addition: \", num1+num2)\n",
    "elif operation == '-':\n",
    "    print(\"subtraction: \", num1-num2)\n",
    "elif operation == '*':\n",
    "    print(\"multiplication: \", num1*num2)\n",
    "elif operation == '/':\n",
    "    print(\"division: \", num1/num2)\n",
    "elif operation == '%':\n",
    "    print(\"remiander: \", num1%num2)\n",
    "else:\n",
    "    print(\"Invlalid choices\")                    "
   ]
  },
  {
   "cell_type": "code",
   "execution_count": 64,
   "id": "e0cdb81e",
   "metadata": {},
   "outputs": [
    {
     "name": "stdout",
     "output_type": "stream",
     "text": [
      "You are respected senior citizeon , your ticket is free\n"
     ]
    }
   ],
   "source": [
    "## Determine the ticket price based on age and whether the person is a student  \n",
    "## fix bug \n",
    "age=int(input(\"Enter a age\"))\n",
    "is_student=input(\"Is Student? (yes/no): \").lower()\n",
    "\n",
    "if age<13 and is_student=='yes':\n",
    "    print(\"Ticket is Free\")\n",
    "\n",
    "elif age>=13 and age<=18 and is_student == 'yes':\n",
    "    print(\"pay 10 dollar\")   \n",
    "\n",
    "elif age>20 and age <=30:\n",
    "    if is_student == 'yes':\n",
    "        print(\"pay 15 dollar\")\n",
    "    else:\n",
    "        print(\"pay 20 dollar\")\n",
    "\n",
    "elif age > 30 and age <=40:\n",
    "       if is_student=='no':\n",
    "        print(\"pay 100 dollar\")  \n",
    "       else:\n",
    "        print(\"awww\")   \n",
    "\n",
    "else:\n",
    "    print(\"You are respected senior citizeon , your ticket is free\")                     "
   ]
  },
  {
   "cell_type": "code",
   "execution_count": null,
   "id": "71d7f998",
   "metadata": {},
   "outputs": [],
   "source": []
  },
  {
   "cell_type": "code",
   "execution_count": null,
   "id": "06eb6e56",
   "metadata": {},
   "outputs": [],
   "source": []
  }
 ],
 "metadata": {
  "kernelspec": {
   "display_name": "Python 3",
   "language": "python",
   "name": "python3"
  },
  "language_info": {
   "codemirror_mode": {
    "name": "ipython",
    "version": 3
   },
   "file_extension": ".py",
   "mimetype": "text/x-python",
   "name": "python",
   "nbconvert_exporter": "python",
   "pygments_lexer": "ipython3",
   "version": "3.12.0"
  }
 },
 "nbformat": 4,
 "nbformat_minor": 5
}
