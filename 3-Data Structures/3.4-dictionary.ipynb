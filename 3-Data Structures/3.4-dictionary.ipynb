{
 "cells": [
  {
   "cell_type": "markdown",
   "id": "ac0d51c0",
   "metadata": {},
   "source": [
    "DICTIONARY\n",
    "\n",
    "  Dictionary are unordered collections of items. They store data in key-value pairs. Keys must be unique and immutable (e.g: strings, numbersm tuples), which values can be any type."
   ]
  },
  {
   "cell_type": "markdown",
   "id": "ad386613",
   "metadata": {},
   "source": [
    "Outline\n",
    "\n",
    "1. Intro\n",
    "2. create\n",
    "3. acessing\n",
    "4. modifying\n",
    "5. methods\n",
    "6. iteration\n",
    "7. nested\n",
    "8. dictionary comprehensiom\n",
    "9. common error and examples\n"
   ]
  },
  {
   "cell_type": "code",
   "execution_count": 1,
   "id": "24a128af",
   "metadata": {},
   "outputs": [
    {
     "name": "stdout",
     "output_type": "stream",
     "text": [
      "<class 'dict'>\n"
     ]
    }
   ],
   "source": [
    "# Creating Dictionary\n",
    "\n",
    "empty_dict={}\n",
    "\n",
    "print(type(empty_dict))\n"
   ]
  },
  {
   "cell_type": "code",
   "execution_count": 2,
   "id": "6c4add35",
   "metadata": {},
   "outputs": [
    {
     "data": {
      "text/plain": [
       "{}"
      ]
     },
     "execution_count": 2,
     "metadata": {},
     "output_type": "execute_result"
    }
   ],
   "source": [
    "empty_dic=dict()\n",
    "empty_dict"
   ]
  },
  {
   "cell_type": "code",
   "execution_count": 4,
   "id": "5f568e7f",
   "metadata": {},
   "outputs": [
    {
     "name": "stdout",
     "output_type": "stream",
     "text": [
      "{'name': 'krish', 'age': 32, 'grad': 24}\n",
      "<class 'dict'>\n"
     ]
    }
   ],
   "source": [
    "student={\"name\":\"krish\", \"age\":32, \"grad\": 24}\n",
    "\n",
    "print(student)\n",
    "print(type(student))"
   ]
  },
  {
   "cell_type": "code",
   "execution_count": null,
   "id": "0bc10d2f",
   "metadata": {},
   "outputs": [
    {
     "name": "stdout",
     "output_type": "stream",
     "text": [
      "{'name': 24, 'age': 32}\n"
     ]
    }
   ],
   "source": [
    "# error\n",
    "# single key is always used\n",
    "student={\"name\":\"krish\", \"age\":32, \"name\": 24}\n",
    "print(student)\n"
   ]
  },
  {
   "cell_type": "code",
   "execution_count": 6,
   "id": "ef9d48b7",
   "metadata": {},
   "outputs": [
    {
     "name": "stdout",
     "output_type": "stream",
     "text": [
      "{'name': 'krish', 'age': 32, 'grad': 24}\n"
     ]
    }
   ],
   "source": [
    "# acessing dictionary elemnts\n",
    "student={\"name\":\"krish\", \"age\":32, \"grad\": 24}\n",
    "print(student)\n"
   ]
  },
  {
   "cell_type": "code",
   "execution_count": 14,
   "id": "f9c28f10",
   "metadata": {},
   "outputs": [
    {
     "name": "stdout",
     "output_type": "stream",
     "text": [
      "24\n",
      "32\n",
      "24\n",
      "None\n",
      "Not avaialable\n"
     ]
    }
   ],
   "source": [
    "print(student['grad'])\n",
    "print(student['age'])\n",
    "# print(student['last_name'])\n",
    "\n",
    "\n",
    "# acessing values using get() method\n",
    "print(student.get('grad'))\n",
    "print(student.get('last_name'))\n",
    "print(student.get('last_name', \"Not avaialable\"))"
   ]
  },
  {
   "cell_type": "code",
   "execution_count": 15,
   "id": "0446658c",
   "metadata": {},
   "outputs": [
    {
     "name": "stdout",
     "output_type": "stream",
     "text": [
      "{'name': 'krish', 'age': 32, 'grad': 24}\n"
     ]
    }
   ],
   "source": [
    "## Modifying Dictionary Elements\n",
    "# Dictionary are mutable, so you can add update and delete elemts\n",
    "\n",
    "print(student)"
   ]
  },
  {
   "cell_type": "code",
   "execution_count": null,
   "id": "0ae14c48",
   "metadata": {},
   "outputs": [
    {
     "name": "stdout",
     "output_type": "stream",
     "text": [
      "{'name': 'krish', 'age': 33, 'grad': 24}\n",
      "{'name': 'krish', 'age': 33, 'grad': 24, 'address': 'India'}\n"
     ]
    }
   ],
   "source": [
    "student['age']=33 ## updated the value for the key\n",
    "print(student)\n",
    "student['address']=\"India\" ## added the new key and value\n",
    "print(student)"
   ]
  },
  {
   "cell_type": "code",
   "execution_count": 18,
   "id": "32c7d5d2",
   "metadata": {},
   "outputs": [
    {
     "name": "stdout",
     "output_type": "stream",
     "text": [
      "{'name': 'krish', 'age': 33, 'address': 'India'}\n"
     ]
    }
   ],
   "source": [
    "del student['grad'] ## delete key and value pair\n",
    "print(student)"
   ]
  },
  {
   "cell_type": "code",
   "execution_count": 21,
   "id": "4f365834",
   "metadata": {},
   "outputs": [
    {
     "name": "stdout",
     "output_type": "stream",
     "text": [
      "dict_keys(['name', 'age', 'address'])\n",
      "dict_values(['krish', 33, 'India'])\n",
      "dict_items([('name', 'krish'), ('age', 33), ('address', 'India')])\n"
     ]
    }
   ],
   "source": [
    "# Dictinary Methods\n",
    "\n",
    "keys=student.keys() ## get all the keys\n",
    "print(keys)\n",
    "\n",
    "values = student.values() ## get all the values\n",
    "print(values)\n",
    " \n",
    "itms = student.items()  # get all keys values pairs\n",
    "print(itms) "
   ]
  },
  {
   "cell_type": "code",
   "execution_count": 24,
   "id": "4751c976",
   "metadata": {},
   "outputs": [
    {
     "name": "stdout",
     "output_type": "stream",
     "text": [
      "{'name': 'krish', 'age': 33, 'address': 'India'}\n",
      "{'name': 'krish', 'age': 33, 'address': 'India'}\n"
     ]
    }
   ],
   "source": [
    "# shallow copy\n",
    "\n",
    "student_copy=student\n",
    "print(student)\n",
    "print(student_copy)"
   ]
  },
  {
   "cell_type": "code",
   "execution_count": 25,
   "id": "89d587cc",
   "metadata": {},
   "outputs": [
    {
     "name": "stdout",
     "output_type": "stream",
     "text": [
      "{'name': 'krish2', 'age': 33, 'address': 'India'}\n",
      "{'name': 'krish2', 'age': 33, 'address': 'India'}\n"
     ]
    }
   ],
   "source": [
    "student['name'] ='krish2'\n",
    "\n",
    "print(student)\n",
    "print(student_copy)"
   ]
  },
  {
   "cell_type": "code",
   "execution_count": null,
   "id": "a2414e21",
   "metadata": {},
   "outputs": [
    {
     "name": "stdout",
     "output_type": "stream",
     "text": [
      "{'name': 'krish2', 'age': 33, 'address': 'India'}\n",
      "{'name': 'krish2', 'age': 33, 'address': 'India'}\n"
     ]
    }
   ],
   "source": [
    "student_copy1 = student.copy() ## shallow copy -- provide diff mem location so one is updated don't impcat other one\n",
    "print(student_copy1)\n",
    "print(student)\n"
   ]
  },
  {
   "cell_type": "code",
   "execution_count": 27,
   "id": "fe31a998",
   "metadata": {},
   "outputs": [
    {
     "name": "stdout",
     "output_type": "stream",
     "text": [
      "{'name': 'krish2', 'age': 33, 'address': 'India'}\n",
      "{'name': 'krish3', 'age': 33, 'address': 'India'}\n"
     ]
    }
   ],
   "source": [
    "student[\"name\"]=\"krish3\"\n",
    "\n",
    "print(student_copy1)\n",
    "print(student)"
   ]
  },
  {
   "cell_type": "code",
   "execution_count": 28,
   "id": "c9ec6ae8",
   "metadata": {},
   "outputs": [
    {
     "name": "stdout",
     "output_type": "stream",
     "text": [
      "name\n",
      "age\n",
      "address\n"
     ]
    }
   ],
   "source": [
    "# Iterating over dictionary\n",
    "# loops to iterate -- over dictionary in dict we keys, values, items(combination of key and valye)\n",
    "\n",
    "# Iterating over keys\n",
    "for keys in student.keys():\n",
    "    print(keys)\n",
    "\n"
   ]
  },
  {
   "cell_type": "code",
   "execution_count": 29,
   "id": "a4fafd31",
   "metadata": {},
   "outputs": [
    {
     "name": "stdout",
     "output_type": "stream",
     "text": [
      "krish3\n",
      "33\n",
      "India\n"
     ]
    }
   ],
   "source": [
    "# Iterating over values\n",
    "\n",
    "for value in student.values():\n",
    "    print(value)\n"
   ]
  },
  {
   "cell_type": "code",
   "execution_count": 30,
   "id": "110ebb4f",
   "metadata": {},
   "outputs": [
    {
     "name": "stdout",
     "output_type": "stream",
     "text": [
      "name:krish3\n",
      "age:33\n",
      "address:India\n"
     ]
    }
   ],
   "source": [
    "# Iterate over key value pairs\n",
    "\n",
    "for key,value in student.items():\n",
    "     print(f\"{key}:{value}\")"
   ]
  },
  {
   "cell_type": "code",
   "execution_count": 31,
   "id": "980f6b23",
   "metadata": {},
   "outputs": [
    {
     "name": "stdout",
     "output_type": "stream",
     "text": [
      "{'student1': {'name': 'krish', 'age': 32}, 'student2': {'name': 'zainy', 'age': 22}, 'student3': {'name': 'sana', 'age': 24}}\n"
     ]
    }
   ],
   "source": [
    "# Nested Dictionary\n",
    "\n",
    "students ={\n",
    "    \"student1\":{\n",
    "        \"name\":\"krish\",\n",
    "        \"age\":32,\n",
    "    },\n",
    "\n",
    "    \"student2\":{\n",
    "        \"name\":\"zainy\",\n",
    "        \"age\":22\n",
    "    },\n",
    "\n",
    "    \"student3\":{\n",
    "        \"name\":\"sana\",\n",
    "        \"age\":24\n",
    "    }\n",
    "}\n",
    "\n",
    "print(students)"
   ]
  },
  {
   "cell_type": "code",
   "execution_count": 35,
   "id": "a6fa0593",
   "metadata": {},
   "outputs": [
    {
     "name": "stdout",
     "output_type": "stream",
     "text": [
      "zainy\n",
      "22\n"
     ]
    }
   ],
   "source": [
    "# Acess nested dictionary elemts\n",
    "print(students[\"student2\"][\"name\"])\n",
    "print(students[\"student2\"][\"age\"])"
   ]
  },
  {
   "cell_type": "code",
   "execution_count": 36,
   "id": "e902a863",
   "metadata": {},
   "outputs": [
    {
     "data": {
      "text/plain": [
       "dict_items([('student1', {'name': 'krish', 'age': 32}), ('student2', {'name': 'zainy', 'age': 22}), ('student3', {'name': 'sana', 'age': 24})])"
      ]
     },
     "execution_count": 36,
     "metadata": {},
     "output_type": "execute_result"
    }
   ],
   "source": [
    "students.items()"
   ]
  },
  {
   "cell_type": "code",
   "execution_count": 38,
   "id": "994bfe5d",
   "metadata": {},
   "outputs": [
    {
     "name": "stdout",
     "output_type": "stream",
     "text": [
      "student1:{'name': 'krish', 'age': 32}\n",
      "name:krish\n",
      "age:32\n",
      "student2:{'name': 'zainy', 'age': 22}\n",
      "name:zainy\n",
      "age:22\n",
      "student3:{'name': 'sana', 'age': 24}\n",
      "name:sana\n",
      "age:24\n"
     ]
    }
   ],
   "source": [
    "# Iterating over nested dictionary\n",
    "\n",
    "for student_id, student_info in students.items():\n",
    "    print(f\"{student_id}:{student_info}\")\n",
    "    for key,value in student_info.items():\n",
    "        print(f\"{key}:{value}\")\n"
   ]
  },
  {
   "cell_type": "code",
   "execution_count": 39,
   "id": "17ba43f1",
   "metadata": {},
   "outputs": [
    {
     "name": "stdout",
     "output_type": "stream",
     "text": [
      "{0: 0, 1: 1, 2: 4, 3: 9, 4: 16}\n"
     ]
    }
   ],
   "source": [
    "# dictionary comprehension\n",
    "\n",
    "squres={i:i**2 for i in range(5)}\n",
    "\n",
    "print(squres)"
   ]
  },
  {
   "cell_type": "code",
   "execution_count": null,
   "id": "b484262e",
   "metadata": {},
   "outputs": [
    {
     "name": "stdout",
     "output_type": "stream",
     "text": [
      "{0: 0, 2: 4, 4: 16}\n"
     ]
    }
   ],
   "source": [
    "# conditional dictionary comprehension\n",
    "squres_even = {i:i**2 for i in range(5) if i%2==0}\n",
    "\n",
    "print(squres_even)"
   ]
  },
  {
   "cell_type": "code",
   "execution_count": 42,
   "id": "2b1d889d",
   "metadata": {},
   "outputs": [
    {
     "name": "stdout",
     "output_type": "stream",
     "text": [
      "{1: 1, 2: 2, 3: 3, 4: 4}\n"
     ]
    }
   ],
   "source": [
    "# practical examples\n",
    "\n",
    "#  Use a dictionary to count the frequency of elemts in list\n",
    "\n",
    "numbers=[1,2,2,3,3,3,4,4,4,4]\n",
    "\n",
    "freq={}\n",
    "\n",
    "for i in numbers:\n",
    "    if i in freq:\n",
    "        freq[i]+=1\n",
    "    else:\n",
    "        freq[i]=1    \n",
    "\n",
    "print(freq)        "
   ]
  },
  {
   "cell_type": "code",
   "execution_count": 45,
   "id": "2ab33ec5",
   "metadata": {},
   "outputs": [
    {
     "name": "stdout",
     "output_type": "stream",
     "text": [
      "{'a': 1, 'b': 3, 'c': 4}\n"
     ]
    }
   ],
   "source": [
    "# Merge 2 dictionary into one\n",
    "\n",
    "dict1={\"a\":1,\"b\":2}\n",
    "dict2={\"b\":3,\"c\":4}\n",
    "\n",
    "merged_dict={**dict1, **dict2}\n",
    "\n",
    "print(merged_dict)"
   ]
  }
 ],
 "metadata": {
  "kernelspec": {
   "display_name": "Python 3",
   "language": "python",
   "name": "python3"
  },
  "language_info": {
   "codemirror_mode": {
    "name": "ipython",
    "version": 3
   },
   "file_extension": ".py",
   "mimetype": "text/x-python",
   "name": "python",
   "nbconvert_exporter": "python",
   "pygments_lexer": "ipython3",
   "version": "3.12.0"
  }
 },
 "nbformat": 4,
 "nbformat_minor": 5
}
