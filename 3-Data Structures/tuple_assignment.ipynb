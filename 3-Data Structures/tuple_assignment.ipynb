{
 "cells": [
  {
   "cell_type": "markdown",
   "id": "6cade624",
   "metadata": {},
   "source": [
    "# Module 3: Data Structures Assignments\n",
    "## Lesson 3.2: Tuples\n",
    "### Assignment 1: Creating and Accessing Tuples\n",
    "\n",
    "Create a tuple with the first 10 positive integers. Print the tuple.\n",
    "\n",
    "### Assignment 2: Accessing Tuple Elements\n",
    "\n",
    "Print the first, middle, and last elements of the tuple created in Assignment 1.\n",
    "\n",
    "### Assignment 3: Tuple Slicing\n",
    "\n",
    "Print the first three elements, the last three elements, and the elements from index 2 to 5 of the tuple created in Assignment 1.\n",
    "\n",
    "### Assignment 4: Nested Tuples\n",
    "\n",
    "Create a nested tuple representing a 3x3 matrix and print the matrix. Access and print the element at the second row and third column.\n",
    "\n",
    "### Assignment 5: Tuple Concatenation\n",
    "\n",
    "Concatenate two tuples: (1, 2, 3) and (4, 5, 6). Print the resulting tuple.\n",
    "\n",
    "### Assignment 6: Tuple Methods\n",
    "\n",
    "Create a tuple with duplicate elements and count the occurrences of an element. Find the index of the first occurrence of an element in the tuple.\n",
    "\n",
    "### Assignment 7: Unpacking Tuples\n",
    "\n",
    "Create a tuple with 5 elements and unpack it into 5 variables. Print the variables.\n",
    "\n",
    "### Assignment 8: Tuple Conversion\n",
    "\n",
    "Convert a list of the first 5 positive integers to a tuple. Print the tuple.\n",
    "\n",
    "### Assignment 9: Tuple of Tuples\n",
    "\n",
    "Create a tuple containing 3 tuples, each with 3 elements. Print the tuple of tuples.\n",
    "\n",
    "### Assignment 10: Tuple and List\n",
    "\n",
    "Create a tuple with the first 5 positive integers. Convert it to a list, append the number 6, and convert it back to a tuple. Print the resulting tuple.\n",
    "\n",
    "### Assignment 11: Tuple and String\n",
    "\n",
    "Create a tuple with the characters of a string. Join the tuple elements into a single string. Print the string.\n",
    "\n",
    "### Assignment 12: Tuple and Dictionary\n",
    "\n",
    "Create a dictionary with tuple keys and integer values. Print the dictionary.\n",
    "\n",
    "### Assignment 13: Nested Tuple Iteration\n",
    "\n",
    "Create a nested tuple and iterate over the elements, printing each element.\n",
    "\n",
    "### Assignment 14: Tuple and Set\n",
    "\n",
    "Create a tuple with duplicate elements. Convert it to a set to remove duplicates and print the resulting set.\n",
    "\n",
    "### Assignment 15: Tuple Functions\n",
    "\n",
    "Write functions that take a tuple and return the minimum, maximum, and sum of the elements. Print the results for a sample tuple."
   ]
  },
  {
   "cell_type": "code",
   "execution_count": 1,
   "metadata": {},
   "outputs": [
    {
     "name": "stdout",
     "output_type": "stream",
     "text": [
      "(1, 2, 3, 4, 5, 6, 7, 8, 9, 10)\n"
     ]
    }
   ],
   "source": [
    "### Assignment 1: Creating and Accessing Tuples\n",
    "\n",
    "# Create a tuple with the first 10 positive integers. Print the tuple.\n",
    "\n",
    "tpl = (1,2,3,4,5,6,7,8,9,10)\n",
    "print(tpl)\n"
   ]
  },
  {
   "cell_type": "code",
   "execution_count": 2,
   "id": "d23c7820",
   "metadata": {},
   "outputs": [
    {
     "name": "stdout",
     "output_type": "stream",
     "text": [
      "1\n",
      "[2, 3, 4, 5, 6, 7, 8, 9]\n",
      "10\n"
     ]
    }
   ],
   "source": [
    "### Assignment 2: Accessing Tuple Elements\n",
    "\n",
    "# Print the first, middle, and last elements of the tuple created in Assignment 1.\n",
    "first, *middle, last = tpl\n",
    "print(first)\n",
    "print(middle)\n",
    "print(last)"
   ]
  },
  {
   "cell_type": "code",
   "execution_count": 5,
   "id": "08da5d58",
   "metadata": {},
   "outputs": [
    {
     "name": "stdout",
     "output_type": "stream",
     "text": [
      "(1, 2, 3)\n",
      "(8, 9)\n",
      "(3, 4, 5)\n"
     ]
    }
   ],
   "source": [
    "### Assignment 3: Tuple Slicing\n",
    "\n",
    "# Print the first three elements, the last three elements, and the elements from index 2 to 5 of the tuple created in Assignment 1.\n",
    "print(tpl[:3])\n",
    "print(tpl[7:-1])\n",
    "print(tpl[2:5])"
   ]
  },
  {
   "cell_type": "code",
   "execution_count": 8,
   "id": "f007a144",
   "metadata": {},
   "outputs": [
    {
     "name": "stdout",
     "output_type": "stream",
     "text": [
      "1 2 3 \n",
      "4 5 6 \n",
      "7 8 9 \n",
      "6\n"
     ]
    }
   ],
   "source": [
    "### Assignment 4: Nested Tuples\n",
    "\n",
    "# Create a nested tuple representing a 3x3 matrix and print the matrix. Access and print the element at the second row and third column.\n",
    "tpl = ((1,2,3),(4,5,6),(7,8,9))\n",
    "\n",
    "for sub_tpl in tpl:\n",
    "    for j in sub_tpl:\n",
    "        print(j, end=\" \")\n",
    "    print()  \n",
    "\n",
    "\n",
    "print(tpl[1][2])"
   ]
  },
  {
   "cell_type": "code",
   "execution_count": 9,
   "id": "f3b1245c",
   "metadata": {},
   "outputs": [
    {
     "name": "stdout",
     "output_type": "stream",
     "text": [
      "(1, 2, 3, 4, 5, 6)\n"
     ]
    }
   ],
   "source": [
    "### Assignment 5: Tuple Concatenation\n",
    "\n",
    "# Concatenate two tuples: (1, 2, 3) and (4, 5, 6). Print the resulting tuple.\n",
    "\n",
    "tpl1 = (1,2,3)\n",
    "tpl2=(4,5,6)\n",
    "\n",
    "concat = tpl1+tpl2\n",
    "\n",
    "print(concat)"
   ]
  },
  {
   "cell_type": "code",
   "execution_count": 26,
   "id": "fc23a94a",
   "metadata": {},
   "outputs": [
    {
     "name": "stdout",
     "output_type": "stream",
     "text": [
      "1\n",
      "2\n",
      "3\n",
      "4\n",
      "5\n"
     ]
    }
   ],
   "source": [
    "### Assignment 7: Unpacking Tuples\n",
    "\n",
    "## Create a tuple with 5 elements and unpack it into 5 variables. Print the variables.\n",
    "\n",
    "packed_tpl = 1,2,3,4,5 \n",
    "# print(packed_tpl)\n",
    "a, b, c, d, e=packed_tpl\n",
    "print(a)\n",
    "print(b)\n",
    "print(c)\n",
    "print(d)\n",
    "print(e)\n"
   ]
  },
  {
   "cell_type": "code",
   "execution_count": 27,
   "id": "7aaaf1e4",
   "metadata": {},
   "outputs": [
    {
     "name": "stdout",
     "output_type": "stream",
     "text": [
      "(1, 2, 3, 4, 5)\n"
     ]
    }
   ],
   "source": [
    "### Assignment 8: Tuple Conversion\n",
    "\n",
    "# Convert a list of the first 5 positive integers to a tuple. Print the tuple.\n",
    "\n",
    "lst=[1,2,3,4,5]\n",
    "print(tuple(lst))"
   ]
  },
  {
   "cell_type": "code",
   "execution_count": 28,
   "id": "1b9715f4",
   "metadata": {},
   "outputs": [
    {
     "name": "stdout",
     "output_type": "stream",
     "text": [
      "1 2 3 \n",
      "4 5 6 \n",
      "7 8 9 \n"
     ]
    }
   ],
   "source": [
    "### Assignment 9: Tuple of Tuples\n",
    "\n",
    "# Create a tuple containing 3 tuples, each with 3 elements. Print the tuple of tuples.\n",
    "\n",
    "tpl=((1,2,3),(4,5,6),(7,8,9))\n",
    "\n",
    "for sub_tpl in tpl:\n",
    "    for i in sub_tpl:\n",
    "        print(i, end=\" \")\n",
    "    print()    "
   ]
  },
  {
   "cell_type": "code",
   "execution_count": 30,
   "id": "65840d5c",
   "metadata": {},
   "outputs": [
    {
     "name": "stdout",
     "output_type": "stream",
     "text": [
      "[1, 2, 3, 4, 5]\n",
      "(1, 2, 3, 4, 5, 6)\n"
     ]
    }
   ],
   "source": [
    "### Assignment 10: Tuple and List\n",
    "\n",
    "# Create a tuple with the first 5 positive integers. Convert it to a list, append the number 6, and convert it back to a tuple. Print the resulting tuple.\n",
    "\n",
    "tpl = (1,2,3,4,5)\n",
    "lst=list(tpl)\n",
    "print(lst)\n",
    "lst.append(6)\n",
    "print(tuple(lst))\n"
   ]
  },
  {
   "cell_type": "code",
   "execution_count": 32,
   "id": "593272a5",
   "metadata": {},
   "outputs": [
    {
     "name": "stdout",
     "output_type": "stream",
     "text": [
      "('z', 'a', 'i', 'n', 'y')\n",
      "zainy\n"
     ]
    }
   ],
   "source": [
    "### Assignment 11: Tuple and String\n",
    "\n",
    "# Create a tuple with the characters of a string. Join the tuple elements into a single string. Print the string.\n",
    "\n",
    "char_string = ('z', 'a', 'i', 'n', 'y')\n",
    "print(char_string)\n",
    "result=\"\".join(char_string)\n",
    "print(result)"
   ]
  },
  {
   "cell_type": "code",
   "execution_count": null,
   "id": "8971d3db",
   "metadata": {},
   "outputs": [],
   "source": [
    "### Assignment 12: Tuple and Dictionary\n",
    "\n",
    "# Create a dictionary with tuple keys and integer values. Print the dictionary.\n"
   ]
  },
  {
   "cell_type": "code",
   "execution_count": 33,
   "id": "214c1401",
   "metadata": {},
   "outputs": [
    {
     "name": "stdout",
     "output_type": "stream",
     "text": [
      "1 2 zainy \n",
      "shy 4 \n"
     ]
    }
   ],
   "source": [
    "### Assignment 13: Nested Tuple Iteration\n",
    "\n",
    "# Create a nested tuple and iterate over the elements, printing each element.\n",
    "\n",
    "tpl = ((1,2,\"zainy\"),(\"shy\", \"4\"))\n",
    "\n",
    "for sub_tpl in tpl:\n",
    "    for j in sub_tpl:\n",
    "        print(j, end=\" \")\n",
    "    print()    \n"
   ]
  },
  {
   "cell_type": "code",
   "execution_count": 34,
   "id": "847983f3",
   "metadata": {},
   "outputs": [
    {
     "name": "stdout",
     "output_type": "stream",
     "text": [
      "(1, 1, 2, 3, 4, 6, 8, 4, 6, 9, 1, 4)\n",
      "{1, 2, 3, 4, 6, 8, 9}\n"
     ]
    }
   ],
   "source": [
    "### Assignment 14: Tuple and Set\n",
    "\n",
    "# Create a tuple with duplicate elements. Convert it to a set to remove duplicates and print the resulting set.\n",
    "\n",
    "tpl = (1,1,2,3,4,6,8,4,6,9,1,4,)\n",
    "\n",
    "print(tpl)\n",
    "print(set(tpl))"
   ]
  },
  {
   "cell_type": "code",
   "execution_count": null,
   "id": "ccdbd088",
   "metadata": {},
   "outputs": [],
   "source": [
    "### Assignment 15: Tuple Functions\n",
    "\n",
    "# Write functions that take a tuple and return the minimum, maximum, and sum of the elements. Print the results for a sample tuple.\n",
    "\n"
   ]
  }
 ],
 "metadata": {
  "kernelspec": {
   "display_name": "Python 3",
   "language": "python",
   "name": "python3"
  },
  "language_info": {
   "codemirror_mode": {
    "name": "ipython",
    "version": 3
   },
   "file_extension": ".py",
   "mimetype": "text/x-python",
   "name": "python",
   "nbconvert_exporter": "python",
   "pygments_lexer": "ipython3",
   "version": "3.12.0"
  }
 },
 "nbformat": 4,
 "nbformat_minor": 5
}
