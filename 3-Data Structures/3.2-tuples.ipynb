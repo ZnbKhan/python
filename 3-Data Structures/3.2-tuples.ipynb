{
 "cells": [
  {
   "cell_type": "markdown",
   "id": "7bb0b0a6",
   "metadata": {},
   "source": [
    "TUPLES\n",
    "Tuples are ordered collection of items that are immutable, similar to list for immutability make them different"
   ]
  },
  {
   "cell_type": "markdown",
   "id": "08081aab",
   "metadata": {},
   "source": [
    "OULINE\n",
    "1. Intro\n",
    "2. Creating Tuples\n",
    "3. Acessing Tuple Elmnts\n",
    "5. Immutable Nature of Tuples\n",
    "6. Tuple Methods\n",
    "7. Packing and unpacking tuples\n",
    "8. Nested Tuples\n",
    "9. Practical exaple and common errors\n"
   ]
  },
  {
   "cell_type": "code",
   "execution_count": 1,
   "id": "c12d2455",
   "metadata": {},
   "outputs": [
    {
     "name": "stdout",
     "output_type": "stream",
     "text": [
      "()\n",
      "<class 'tuple'>\n"
     ]
    }
   ],
   "source": [
    "## creating tuple\n",
    "\n",
    "empty_tuple = ()\n",
    "print(empty_tuple)\n",
    "print(type(empty_tuple))"
   ]
  },
  {
   "cell_type": "code",
   "execution_count": 2,
   "id": "f23ed27e",
   "metadata": {},
   "outputs": [
    {
     "name": "stdout",
     "output_type": "stream",
     "text": [
      "[]\n",
      "<class 'list'>\n",
      "()\n",
      "<class 'tuple'>\n"
     ]
    }
   ],
   "source": [
    "lst=list()\n",
    "print(lst)\n",
    "print(type(lst))\n",
    "\n",
    "tupl=tuple()\n",
    "print(tupl)\n",
    "print(type(tupl))"
   ]
  },
  {
   "cell_type": "code",
   "execution_count": 3,
   "id": "9ec6d363",
   "metadata": {},
   "outputs": [
    {
     "data": {
      "text/plain": [
       "(1, 2, 3, 4, 5, 6)"
      ]
     },
     "execution_count": 3,
     "metadata": {},
     "output_type": "execute_result"
    }
   ],
   "source": [
    "numbers=tuple([1,2,3,4,5,6])\n",
    "numbers"
   ]
  },
  {
   "cell_type": "code",
   "execution_count": 4,
   "id": "a95696f6",
   "metadata": {},
   "outputs": [
    {
     "data": {
      "text/plain": [
       "[1, 2, 3, 4, 5, 6]"
      ]
     },
     "execution_count": 4,
     "metadata": {},
     "output_type": "execute_result"
    }
   ],
   "source": [
    "list((1,2,3,4,5,6))"
   ]
  },
  {
   "cell_type": "code",
   "execution_count": 5,
   "id": "58981b8a",
   "metadata": {},
   "outputs": [
    {
     "name": "stdout",
     "output_type": "stream",
     "text": [
      "(1, 'Hello', 3.14, True)\n"
     ]
    }
   ],
   "source": [
    "mixed_tuple=(1,\"Hello\", 3.14, True)\n",
    "print(mixed_tuple)"
   ]
  },
  {
   "cell_type": "code",
   "execution_count": 8,
   "id": "279f2d37",
   "metadata": {},
   "outputs": [
    {
     "data": {
      "text/plain": [
       "(1, 2, 3, 4, 5, 6)"
      ]
     },
     "execution_count": 8,
     "metadata": {},
     "output_type": "execute_result"
    }
   ],
   "source": [
    "## Acessing tuple elemnts\n",
    "\n",
    "numbers"
   ]
  },
  {
   "cell_type": "code",
   "execution_count": 11,
   "id": "07e52506",
   "metadata": {},
   "outputs": [
    {
     "name": "stdout",
     "output_type": "stream",
     "text": [
      "3\n",
      "6\n"
     ]
    }
   ],
   "source": [
    "print(numbers[2])\n",
    "print(numbers[-1])"
   ]
  },
  {
   "cell_type": "code",
   "execution_count": 12,
   "id": "2aebab4c",
   "metadata": {},
   "outputs": [
    {
     "data": {
      "text/plain": [
       "(1, 2, 3, 4)"
      ]
     },
     "execution_count": 12,
     "metadata": {},
     "output_type": "execute_result"
    }
   ],
   "source": [
    "numbers[0:4]"
   ]
  },
  {
   "cell_type": "code",
   "execution_count": 13,
   "id": "2987a808",
   "metadata": {},
   "outputs": [
    {
     "data": {
      "text/plain": [
       "(1, 2, 3, 4, 5, 6)"
      ]
     },
     "execution_count": 13,
     "metadata": {},
     "output_type": "execute_result"
    }
   ],
   "source": [
    "numbers[::]"
   ]
  },
  {
   "cell_type": "code",
   "execution_count": 20,
   "id": "efdb6e96",
   "metadata": {},
   "outputs": [
    {
     "name": "stdout",
     "output_type": "stream",
     "text": [
      "(1, 'Hello', 3.14, True, 1, 2, 3, 4, 5, 6)\n"
     ]
    }
   ],
   "source": [
    "## Tuple Operations\n",
    "\n",
    "concatination_tuple=mixed_tuple + numbers\n",
    "print(concatination_tuple)\n"
   ]
  },
  {
   "cell_type": "code",
   "execution_count": 22,
   "id": "b689a6cc",
   "metadata": {},
   "outputs": [
    {
     "data": {
      "text/plain": [
       "(1, 'Hello', 3.14, True, 1, 'Hello', 3.14, True, 1, 'Hello', 3.14, True)"
      ]
     },
     "execution_count": 22,
     "metadata": {},
     "output_type": "execute_result"
    }
   ],
   "source": [
    "mixed_tuple *3"
   ]
  },
  {
   "cell_type": "code",
   "execution_count": 23,
   "id": "56c05150",
   "metadata": {},
   "outputs": [
    {
     "data": {
      "text/plain": [
       "(1, 2, 3, 4, 5, 6, 1, 2, 3, 4, 5, 6, 1, 2, 3, 4, 5, 6)"
      ]
     },
     "execution_count": 23,
     "metadata": {},
     "output_type": "execute_result"
    }
   ],
   "source": [
    "numbers *3\n"
   ]
  },
  {
   "cell_type": "code",
   "execution_count": 25,
   "id": "4e524be5",
   "metadata": {},
   "outputs": [
    {
     "name": "stdout",
     "output_type": "stream",
     "text": [
      "[1, 2, 3, 4, 5]\n",
      "[1, 'zainy', 3, 4, 5]\n"
     ]
    }
   ],
   "source": [
    "## Immutable nature of tuples\n",
    "## Tuples are immutable - elmts can't be changed once assigned\n",
    "\n",
    "lst = [1,2,3,4,5]\n",
    "print(lst)\n",
    "\n",
    "lst[1] = \"zainy\"\n",
    "print(lst)"
   ]
  },
  {
   "cell_type": "code",
   "execution_count": 29,
   "id": "a4dea3ac",
   "metadata": {},
   "outputs": [
    {
     "ename": "TypeError",
     "evalue": "'tuple' object does not support item assignment",
     "output_type": "error",
     "traceback": [
      "\u001b[31m---------------------------------------------------------------------------\u001b[39m",
      "\u001b[31mTypeError\u001b[39m                                 Traceback (most recent call last)",
      "\u001b[36mCell\u001b[39m\u001b[36m \u001b[39m\u001b[32mIn[29]\u001b[39m\u001b[32m, line 1\u001b[39m\n\u001b[32m----> \u001b[39m\u001b[32m1\u001b[39m \u001b[43mnumbers\u001b[49m\u001b[43m[\u001b[49m\u001b[32;43m1\u001b[39;49m\u001b[43m]\u001b[49m = \u001b[33m\"\u001b[39m\u001b[33mzainy\u001b[39m\u001b[33m\"\u001b[39m\n",
      "\u001b[31mTypeError\u001b[39m: 'tuple' object does not support item assignment"
     ]
    }
   ],
   "source": [
    "numbers[1] = \"zainy\""
   ]
  },
  {
   "cell_type": "code",
   "execution_count": 30,
   "id": "65772072",
   "metadata": {},
   "outputs": [
    {
     "data": {
      "text/plain": [
       "(1, 2, 3, 4, 5, 6)"
      ]
     },
     "execution_count": 30,
     "metadata": {},
     "output_type": "execute_result"
    }
   ],
   "source": [
    "numbers"
   ]
  },
  {
   "cell_type": "code",
   "execution_count": 32,
   "id": "d6dc2673",
   "metadata": {},
   "outputs": [
    {
     "name": "stdout",
     "output_type": "stream",
     "text": [
      "1\n",
      "2\n"
     ]
    }
   ],
   "source": [
    "## Tuple Methods\n",
    "\n",
    "print(numbers.count(1))\n",
    "print(numbers.index(3))"
   ]
  },
  {
   "cell_type": "code",
   "execution_count": null,
   "id": "0ff11332",
   "metadata": {},
   "outputs": [
    {
     "name": "stdout",
     "output_type": "stream",
     "text": [
      "(1, 'zainy', 3.14)\n"
     ]
    }
   ],
   "source": [
    "## packing and unpacking tuple\n",
    "## packing\n",
    "\n",
    "packed_tuple = 1,\"zainy\", 3.14 ##packed them in tuple\n",
    "print(packed_tuple)"
   ]
  },
  {
   "cell_type": "code",
   "execution_count": 34,
   "id": "a2ccc860",
   "metadata": {},
   "outputs": [
    {
     "name": "stdout",
     "output_type": "stream",
     "text": [
      "1\n",
      "zainy\n",
      "3.14\n"
     ]
    }
   ],
   "source": [
    "## unpacking a tuple\n",
    "a,b,c=packed_tuple\n",
    "\n",
    "print(a)\n",
    "print(b)\n",
    "print(c)"
   ]
  },
  {
   "cell_type": "code",
   "execution_count": 35,
   "id": "c4ec900b",
   "metadata": {},
   "outputs": [
    {
     "name": "stdout",
     "output_type": "stream",
     "text": [
      "1\n",
      "[2, 3, 4, 5]\n",
      "6\n"
     ]
    }
   ],
   "source": [
    "## Unpacking with star *\n",
    "\n",
    "numbers=(1,2,3,4,5,6)\n",
    "first,*middle,last=numbers\n",
    "print(first)\n",
    "print(middle)\n",
    "print(last)"
   ]
  },
  {
   "cell_type": "code",
   "execution_count": null,
   "id": "20201764",
   "metadata": {},
   "outputs": [
    {
     "name": "stdout",
     "output_type": "stream",
     "text": [
      "3\n",
      "[1, 2, 3]\n"
     ]
    }
   ],
   "source": [
    "## Nested Tuples\n",
    "## nested list\n",
    "lst=[[1,2,3,4],[6,7,8,9],[1,\"Hello\", 3.14, \"c\"]]\n",
    "print(lst[0][2])\n",
    "print(lst[0][0:3])"
   ]
  },
  {
   "cell_type": "code",
   "execution_count": 41,
   "id": "10cc9d2b",
   "metadata": {},
   "outputs": [
    {
     "data": {
      "text/plain": [
       "(1, 'Hello', 3.14)"
      ]
     },
     "execution_count": 41,
     "metadata": {},
     "output_type": "execute_result"
    }
   ],
   "source": [
    "lst=[[1,2,3,4],[6,7,8,9],(1,\"Hello\", 3.14, \"c\")]\n",
    "\n",
    "lst[2][0:3]\n"
   ]
  },
  {
   "cell_type": "code",
   "execution_count": 43,
   "id": "8e188667",
   "metadata": {},
   "outputs": [
    {
     "name": "stdout",
     "output_type": "stream",
     "text": [
      "((1, 2, 3), ('a', 'b', 'c'), (True, False))\n",
      "c\n"
     ]
    }
   ],
   "source": [
    "nested_tuple=((1,2,3),(\"a\", \"b\", \"c\"),(True,False))\n",
    "\n",
    "print(nested_tuple)\n",
    "print(nested_tuple[1][2])"
   ]
  },
  {
   "cell_type": "code",
   "execution_count": 45,
   "id": "63512a0a",
   "metadata": {},
   "outputs": [
    {
     "name": "stdout",
     "output_type": "stream",
     "text": [
      "1 2 3 \n",
      "a b c \n",
      "True False \n"
     ]
    }
   ],
   "source": [
    "## Iterating over nested tuples\n",
    "\n",
    "for sub_tule in nested_tuple:\n",
    "    for item in sub_tule:\n",
    "        print(item,end=\" \")\n",
    "\n",
    "    print()    "
   ]
  },
  {
   "cell_type": "markdown",
   "id": "769d736b",
   "metadata": {},
   "source": [
    "Conclusion\n",
    "\n",
    "  1.Tuples are versatile and useful in many real-world scenario where an immutable and ordered collection of items are required.\n",
    "\n",
    "2. They are commonly used in data structures, function arguments and return values, an as dictionary keys.\n",
    "\n",
    "3. Understanding how to levrage tuples effectively can improve the efficiency and readability of your python code."
   ]
  },
  {
   "cell_type": "markdown",
   "id": "1c32bb8a",
   "metadata": {},
   "source": []
  }
 ],
 "metadata": {
  "kernelspec": {
   "display_name": "Python 3",
   "language": "python",
   "name": "python3"
  },
  "language_info": {
   "codemirror_mode": {
    "name": "ipython",
    "version": 3
   },
   "file_extension": ".py",
   "mimetype": "text/x-python",
   "name": "python",
   "nbconvert_exporter": "python",
   "pygments_lexer": "ipython3",
   "version": "3.12.0"
  }
 },
 "nbformat": 4,
 "nbformat_minor": 5
}
