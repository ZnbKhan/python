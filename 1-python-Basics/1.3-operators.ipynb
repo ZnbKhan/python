{
 "cells": [
  {
   "cell_type": "markdown",
   "id": "7b91b0bd",
   "metadata": {},
   "source": [
    "OPERATORS\n"
   ]
  },
  {
   "cell_type": "markdown",
   "id": "79991a1f",
   "metadata": {},
   "source": [
    "### Arithmatic Operators\n"
   ]
  },
  {
   "cell_type": "code",
   "execution_count": 4,
   "id": "8ffccdae",
   "metadata": {},
   "outputs": [
    {
     "name": "stdout",
     "output_type": "stream",
     "text": [
      "15\n",
      "5\n",
      "50\n",
      "2.0\n",
      "2\n",
      "0\n",
      "100000\n"
     ]
    }
   ],
   "source": [
    "## Arithmatic Operations\n",
    "\n",
    "a=10\n",
    "b=5\n",
    "\n",
    "add_result=a+b\n",
    "sub_result=a-b\n",
    "mul_result=a*b\n",
    "div_result=a/b\n",
    "floor_div_result=a//b ##floor division\n",
    "modulus_result = a%b\n",
    "\n",
    "exponential_result = a**b\n",
    "\n",
    "print(add_result)\n",
    "print(sub_result)\n",
    "print(mul_result)\n",
    "print(div_result)\n",
    "print(floor_div_result)\n",
    "print(modulus_result)\n",
    "print(exponential_result)"
   ]
  },
  {
   "cell_type": "code",
   "execution_count": 5,
   "id": "eaf22569",
   "metadata": {},
   "outputs": [
    {
     "data": {
      "text/plain": [
       "2.0"
      ]
     },
     "execution_count": 5,
     "metadata": {},
     "output_type": "execute_result"
    }
   ],
   "source": [
    "10/5"
   ]
  },
  {
   "cell_type": "code",
   "execution_count": 6,
   "id": "897cb01c",
   "metadata": {},
   "outputs": [
    {
     "data": {
      "text/plain": [
       "4.2"
      ]
     },
     "execution_count": 6,
     "metadata": {},
     "output_type": "execute_result"
    }
   ],
   "source": [
    "21/5"
   ]
  },
  {
   "cell_type": "code",
   "execution_count": 7,
   "id": "d387aacd",
   "metadata": {},
   "outputs": [
    {
     "data": {
      "text/plain": [
       "4"
      ]
     },
     "execution_count": 7,
     "metadata": {},
     "output_type": "execute_result"
    }
   ],
   "source": [
    "21//5\n"
   ]
  },
  {
   "cell_type": "markdown",
   "id": "c1c8e4c9",
   "metadata": {},
   "source": [
    "### Comparison Operators\n"
   ]
  },
  {
   "cell_type": "code",
   "execution_count": null,
   "id": "79893fa1",
   "metadata": {},
   "outputs": [
    {
     "data": {
      "text/plain": [
       "True"
      ]
     },
     "execution_count": 8,
     "metadata": {},
     "output_type": "execute_result"
    }
   ],
   "source": [
    "## Comparisons Operators\n",
    "## == Equal to\n",
    "a=10\n",
    "b=10\n",
    "a==b"
   ]
  },
  {
   "cell_type": "code",
   "execution_count": 11,
   "id": "07564bbd",
   "metadata": {},
   "outputs": [
    {
     "data": {
      "text/plain": [
       "True"
      ]
     },
     "execution_count": 11,
     "metadata": {},
     "output_type": "execute_result"
    }
   ],
   "source": [
    "str1=\"krish\"\n",
    "str2=\"krish\"\n",
    "\n",
    "str1==str2\n"
   ]
  },
  {
   "cell_type": "code",
   "execution_count": 12,
   "id": "c6b17356",
   "metadata": {},
   "outputs": [
    {
     "data": {
      "text/plain": [
       "False"
      ]
     },
     "execution_count": 12,
     "metadata": {},
     "output_type": "execute_result"
    }
   ],
   "source": [
    "## Not Equal to\n",
    "str1!=str2"
   ]
  },
  {
   "cell_type": "code",
   "execution_count": 13,
   "id": "674447e2",
   "metadata": {},
   "outputs": [
    {
     "data": {
      "text/plain": [
       "True"
      ]
     },
     "execution_count": 13,
     "metadata": {},
     "output_type": "execute_result"
    }
   ],
   "source": [
    "str3=\"Krish\"\n",
    "str4=\"krish\"\n",
    "\n",
    "str3!=str4\n"
   ]
  },
  {
   "cell_type": "code",
   "execution_count": null,
   "id": "f13eb0b5",
   "metadata": {},
   "outputs": [
    {
     "data": {
      "text/plain": [
       "False"
      ]
     },
     "execution_count": 14,
     "metadata": {},
     "output_type": "execute_result"
    }
   ],
   "source": [
    "## Greater Than >\n",
    "a=45\n",
    "b=55\n",
    "\n",
    "a>b"
   ]
  },
  {
   "cell_type": "code",
   "execution_count": null,
   "id": "754cf2ae",
   "metadata": {},
   "outputs": [
    {
     "data": {
      "text/plain": [
       "True"
      ]
     },
     "execution_count": 15,
     "metadata": {},
     "output_type": "execute_result"
    }
   ],
   "source": [
    "## Less than <\n",
    "a<b"
   ]
  },
  {
   "cell_type": "code",
   "execution_count": 16,
   "id": "702913ec",
   "metadata": {},
   "outputs": [
    {
     "data": {
      "text/plain": [
       "True"
      ]
     },
     "execution_count": 16,
     "metadata": {},
     "output_type": "execute_result"
    }
   ],
   "source": [
    "## Greater Than or Equal To\n",
    "num1=45\n",
    "num2=45\n",
    "\n",
    "num1>=num2"
   ]
  },
  {
   "cell_type": "code",
   "execution_count": 17,
   "id": "0d372450",
   "metadata": {},
   "outputs": [
    {
     "data": {
      "text/plain": [
       "True"
      ]
     },
     "execution_count": 17,
     "metadata": {},
     "output_type": "execute_result"
    }
   ],
   "source": [
    "## Less than or equal to\n",
    "\n",
    "num1<=num2"
   ]
  },
  {
   "cell_type": "markdown",
   "id": "e0f066d4",
   "metadata": {},
   "source": [
    "### LGICAL OPERATORS"
   ]
  },
  {
   "cell_type": "code",
   "execution_count": 19,
   "id": "c863bc0e",
   "metadata": {},
   "outputs": [
    {
     "name": "stdout",
     "output_type": "stream",
     "text": [
      "True\n"
     ]
    }
   ],
   "source": [
    "## AND, NOT, OR\n",
    "X=True\n",
    "Y=True\n",
    "result = X and Y\n",
    "\n",
    "print(result)\n",
    "\n"
   ]
  },
  {
   "cell_type": "code",
   "execution_count": 20,
   "id": "35f19e77",
   "metadata": {},
   "outputs": [
    {
     "name": "stdout",
     "output_type": "stream",
     "text": [
      "False\n"
     ]
    }
   ],
   "source": [
    "X=True\n",
    "Y=False\n",
    "result = X and Y\n",
    "\n",
    "print(result)\n"
   ]
  },
  {
   "cell_type": "code",
   "execution_count": 23,
   "id": "5b97f177",
   "metadata": {},
   "outputs": [
    {
     "name": "stdout",
     "output_type": "stream",
     "text": [
      "True\n"
     ]
    }
   ],
   "source": [
    "## OR\n",
    "X=True\n",
    "Y=False\n",
    "result = X or Y\n",
    "\n",
    "print(result)\n"
   ]
  },
  {
   "cell_type": "code",
   "execution_count": null,
   "id": "66258bf7",
   "metadata": {},
   "outputs": [
    {
     "data": {
      "text/plain": [
       "False"
      ]
     },
     "execution_count": 24,
     "metadata": {},
     "output_type": "execute_result"
    }
   ],
   "source": [
    "## NOT -- inverse\n",
    "X=True\n",
    "not X\n"
   ]
  },
  {
   "cell_type": "code",
   "execution_count": null,
   "id": "e3c158e9",
   "metadata": {},
   "outputs": [],
   "source": []
  }
 ],
 "metadata": {
  "kernelspec": {
   "display_name": "Python 3",
   "language": "python",
   "name": "python3"
  },
  "language_info": {
   "codemirror_mode": {
    "name": "ipython",
    "version": 3
   },
   "file_extension": ".py",
   "mimetype": "text/x-python",
   "name": "python",
   "nbconvert_exporter": "python",
   "pygments_lexer": "ipython3",
   "version": "3.12.0"
  }
 },
 "nbformat": 4,
 "nbformat_minor": 5
}
