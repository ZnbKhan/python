{
 "cells": [
  {
   "cell_type": "markdown",
   "id": "a8934f73",
   "metadata": {},
   "source": [
    "SYNTAX AND SEMANTICS IN PYTHON\n",
    "\n",
    "Video Outline\n",
    "\n",
    "1. Single line Comments and multiline comments\n",
    "2. Definition of Syntax and Semantics\n",
    "3. Basic Syntax Rules in Python\n",
    "4. Understanding Semantics in Python\n",
    "5. Common Syntax Errors and How to Avoid Them\n",
    "6. Practical Code Examples\n",
    "\n",
    "\n",
    "Syntax refers to the set of rules that defines the combinations of symbols that are considered to be correctly structured programs in a language. In simpler terms, syntax is about the correct arrangement of words and symbols in a code.\n",
    "\n",
    "Semantics refers to the meaning or the interpretation of the symbols, characters, and commands in a language. It is about what the code is supposed to do when it runs."
   ]
  },
  {
   "cell_type": "code",
   "execution_count": 1,
   "id": "7e87f31c",
   "metadata": {},
   "outputs": [
    {
     "name": "stdout",
     "output_type": "stream",
     "text": [
      "zainab\n",
      "Shy\n"
     ]
    }
   ],
   "source": [
    "\n",
    "## Basics Syntax Rules in python\n",
    "## Case Sensitity -- python is case sensitive\n",
    "\n",
    "name=\"zainab\"\n",
    "Name=\"Shy\"\n",
    "\n",
    "print(name)\n",
    "print(Name)"
   ]
  },
  {
   "cell_type": "markdown",
   "id": "47aa5f75",
   "metadata": {},
   "source": [
    "Identation\n",
    "\n",
    "Identation in python is used to define the structure and hierarchy of the code . unlike many other programming languages that uses braces {} to delimit blocks of code, python uses identation to determine the grouping of statments. This means that all the statments within a block must be indented at same level"
   ]
  },
  {
   "cell_type": "code",
   "execution_count": 2,
   "id": "8bc0677c",
   "metadata": {},
   "outputs": [
    {
     "name": "stdout",
     "output_type": "stream",
     "text": [
      "hii\n",
      "32\n"
     ]
    }
   ],
   "source": [
    "## Indentation\n",
    "## python uses indention to define blocks of code, consistent use of spaces (commonly 4) or a tab is required\n",
    "\n",
    "age=32\n",
    "if age>30:\n",
    "    print(\"hii\")\n",
    "\n",
    "print(age)"
   ]
  },
  {
   "cell_type": "code",
   "execution_count": 3,
   "id": "5bb00c21",
   "metadata": {},
   "outputs": [
    {
     "name": "stdout",
     "output_type": "stream",
     "text": [
      "Hello world\n"
     ]
    }
   ],
   "source": [
    "## This is single line comment\n",
    "print(\"Hello world\")"
   ]
  },
  {
   "cell_type": "code",
   "execution_count": 4,
   "id": "8084f433",
   "metadata": {},
   "outputs": [
    {
     "name": "stdout",
     "output_type": "stream",
     "text": [
      "43\n"
     ]
    }
   ],
   "source": [
    "## Line Continuation\n",
    "## use backslash (\\) for the continuation of line\n",
    "total=1+2+3+4+5+6+7+\\\n",
    "4+5+6\n",
    "\n",
    "print(total)\n"
   ]
  },
  {
   "cell_type": "code",
   "execution_count": 5,
   "id": "2e692381",
   "metadata": {},
   "outputs": [
    {
     "name": "stdout",
     "output_type": "stream",
     "text": [
      "15\n"
     ]
    }
   ],
   "source": [
    "## multiple statments on a single line\n",
    "x=5;y=10;z=x+y\n",
    "print(z)"
   ]
  },
  {
   "cell_type": "code",
   "execution_count": 7,
   "id": "7ac8787b",
   "metadata": {},
   "outputs": [
    {
     "data": {
      "text/plain": [
       "str"
      ]
     },
     "execution_count": 7,
     "metadata": {},
     "output_type": "execute_result"
    }
   ],
   "source": [
    "## Understanding semantics in python\n",
    "# varibale assignment\n",
    "\n",
    "age = 32 ##age is integer kernel understands this\n",
    "name=\"zainy\"\n",
    "\n",
    "type(name)\n"
   ]
  },
  {
   "cell_type": "code",
   "execution_count": 8,
   "id": "3148e473",
   "metadata": {},
   "outputs": [
    {
     "data": {
      "text/plain": [
       "int"
      ]
     },
     "execution_count": 8,
     "metadata": {},
     "output_type": "execute_result"
    }
   ],
   "source": [
    "type(age)"
   ]
  },
  {
   "cell_type": "code",
   "execution_count": 10,
   "id": "a061c2e9",
   "metadata": {},
   "outputs": [
    {
     "name": "stdout",
     "output_type": "stream",
     "text": [
      "<class 'int'>\n",
      "<class 'str'>\n"
     ]
    }
   ],
   "source": [
    "## Type Inference -- during runtime we can chnage the type of varible\n",
    "\n",
    "varible=10\n",
    "print(type(varible))\n",
    "varible=\"krish\"\n",
    "print(type(varible))"
   ]
  },
  {
   "cell_type": "code",
   "execution_count": 13,
   "id": "2ae5c663",
   "metadata": {},
   "outputs": [
    {
     "name": "stdout",
     "output_type": "stream",
     "text": [
      "32\n"
     ]
    }
   ],
   "source": [
    "age=32\n",
    "if age>30:\n",
    "   print(age)"
   ]
  },
  {
   "cell_type": "code",
   "execution_count": 15,
   "id": "a91875ac",
   "metadata": {},
   "outputs": [
    {
     "ename": "NameError",
     "evalue": "name 'b' is not defined",
     "output_type": "error",
     "traceback": [
      "\u001b[31m---------------------------------------------------------------------------\u001b[39m",
      "\u001b[31mNameError\u001b[39m                                 Traceback (most recent call last)",
      "\u001b[36mCell\u001b[39m\u001b[36m \u001b[39m\u001b[32mIn[15]\u001b[39m\u001b[32m, line 3\u001b[39m\n\u001b[32m      1\u001b[39m \u001b[38;5;66;03m## Name Error\u001b[39;00m\n\u001b[32m----> \u001b[39m\u001b[32m3\u001b[39m a=\u001b[43mb\u001b[49m\n",
      "\u001b[31mNameError\u001b[39m: name 'b' is not defined"
     ]
    }
   ],
   "source": [
    "## Name Error\n",
    "\n",
    "a=b"
   ]
  },
  {
   "cell_type": "code",
   "execution_count": 16,
   "id": "0008ca0c",
   "metadata": {},
   "outputs": [
    {
     "name": "stdout",
     "output_type": "stream",
     "text": [
      "Correct Indentaion\n",
      "This will print\n",
      "Outside the if block\n"
     ]
    }
   ],
   "source": [
    "## code Example of Identations\n",
    "\n",
    "if True:\n",
    "    print(\"Correct Indentaion\")\n",
    "    if False:\n",
    "        print(\"This ont print\")\n",
    "    print(\"This will print\")\n",
    "print(\"Outside the if block\")        "
   ]
  }
 ],
 "metadata": {
  "kernelspec": {
   "display_name": "Python 3",
   "language": "python",
   "name": "python3"
  },
  "language_info": {
   "codemirror_mode": {
    "name": "ipython",
    "version": 3
   },
   "file_extension": ".py",
   "mimetype": "text/x-python",
   "name": "python",
   "nbconvert_exporter": "python",
   "pygments_lexer": "ipython3",
   "version": "3.12.0"
  }
 },
 "nbformat": 4,
 "nbformat_minor": 5
}
