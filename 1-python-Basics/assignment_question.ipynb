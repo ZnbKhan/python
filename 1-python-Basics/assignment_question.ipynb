{
 "cells": [
  {
   "cell_type": "markdown",
   "metadata": {},
   "source": [
    "# Lesson 1.2: Python Basics\n",
    "## Topics Covered:\n",
    "- Syntax and Semantics\n",
    "- Variables and Data Types\n",
    "- Basic Operators (Arithmetic, Comparison, Logical)\n"
   ]
  },
  {
   "cell_type": "markdown",
   "metadata": {},
   "source": [
    "## 1. Syntax and Semantics\n",
    "\n",
    "**Question 1:** Write a Python program to print \"Hello, World!\"."
   ]
  },
  {
   "cell_type": "code",
   "execution_count": 1,
   "metadata": {},
   "outputs": [
    {
     "name": "stdout",
     "output_type": "stream",
     "text": [
      "Hello World\n"
     ]
    }
   ],
   "source": [
    "# Your code here\n",
    "print(\"Hello World\")"
   ]
  },
  {
   "cell_type": "markdown",
   "metadata": {},
   "source": [
    "**Question 2:** Write a Python program that takes a user input and prints it."
   ]
  },
  {
   "cell_type": "code",
   "execution_count": 2,
   "metadata": {},
   "outputs": [
    {
     "name": "stdout",
     "output_type": "stream",
     "text": [
      "zainab\n"
     ]
    }
   ],
   "source": [
    "# Your code here\n",
    "name=input(\"Enter Your Name: \")\n",
    "print(name)"
   ]
  },
  {
   "cell_type": "markdown",
   "metadata": {},
   "source": [
    "**Question 3:** Write a Python program to check if a number is positive, negative, or zero."
   ]
  },
  {
   "cell_type": "code",
   "execution_count": 5,
   "metadata": {},
   "outputs": [
    {
     "name": "stdout",
     "output_type": "stream",
     "text": [
      "Negative\n"
     ]
    }
   ],
   "source": [
    "# Your code here\n",
    "num=int(input(\"Enter a number\"))\n",
    "if num<0:\n",
    "    print(\"Negative\")\n",
    "elif num >0:\n",
    "    print(\"Positive\")\n",
    "else:\n",
    "    print(\"zero\")    \n",
    "        "
   ]
  },
  {
   "cell_type": "markdown",
   "metadata": {},
   "source": [
    "**Question 4:** Write a Python program to find the largest of three numbers."
   ]
  },
  {
   "cell_type": "code",
   "execution_count": 7,
   "metadata": {},
   "outputs": [
    {
     "name": "stdout",
     "output_type": "stream",
     "text": [
      "largest number is 8\n"
     ]
    }
   ],
   "source": [
    "# Your code here\n",
    "num1=int(input(\"Enter first number\"))\n",
    "num2=int(input(\"Enter second number\"))\n",
    "num3=int(input(\"Enter third number\"))\n",
    "\n",
    "if num1>num2 and num1>num3:\n",
    "    print(\"largest number is\", num1)\n",
    "elif num2>num1 and num2>num3:\n",
    "    print(\"largest number\", num2)\n",
    "else:\n",
    "    print(\"Lragest Number\", num3)        "
   ]
  },
  {
   "cell_type": "markdown",
   "metadata": {},
   "source": [
    "**Question 5:** Write a Python program to calculate the factorial of a number."
   ]
  },
  {
   "cell_type": "code",
   "execution_count": null,
   "metadata": {},
   "outputs": [],
   "source": [
    "# Your code here\n",
    "num=int(input(\"Enter a number\"))\n"
   ]
  },
  {
   "cell_type": "markdown",
   "metadata": {},
   "source": [
    "## 2. Variables and Data Types\n",
    "\n",
    "**Question 6:** Create variables of different data types: integer, float, string, and boolean. Print their values and types."
   ]
  },
  {
   "cell_type": "code",
   "execution_count": 8,
   "metadata": {},
   "outputs": [
    {
     "name": "stdout",
     "output_type": "stream",
     "text": [
      "5 <class 'int'>\n",
      "6.7 <class 'float'>\n",
      "zainy <class 'str'>\n",
      "True <class 'bool'>\n"
     ]
    }
   ],
   "source": [
    "# Your code here\n",
    "num=5\n",
    "num2=6.7\n",
    "name=\"zainy\"\n",
    "is_girl=True\n",
    "\n",
    "print(num, type(num))\n",
    "print(num2, type(num2))\n",
    "print(name, type(name))\n",
    "print(is_girl, type(is_girl))"
   ]
  },
  {
   "cell_type": "markdown",
   "metadata": {},
   "source": [
    "**Question 7:** Write a Python program to swap the values of two variables."
   ]
  },
  {
   "cell_type": "code",
   "execution_count": null,
   "metadata": {},
   "outputs": [
    {
     "name": "stdout",
     "output_type": "stream",
     "text": [
      "num1:  2\n",
      "num2:  4\n",
      "num1:  4\n",
      "num2:  2\n"
     ]
    }
   ],
   "source": [
    "# Your code here\n",
    "num1=int(input(\"Enter first number\"))\n",
    "num2=int(input(\"Enter second number\"))\n",
    "\n",
    "print(\"num1: \", num1)\n",
    "print(\"num2: \", num2)\n",
    "temp=num1\n",
    "num1=num2\n",
    "num2=temp\n",
    "\n",
    "print(\"num1: \",num1)\n",
    "print(\"num2: \", num2)"
   ]
  },
  {
   "cell_type": "markdown",
   "metadata": {},
   "source": [
    "**Question 8:** Write a Python program to convert Celsius to Fahrenheit."
   ]
  },
  {
   "cell_type": "code",
   "execution_count": null,
   "metadata": {},
   "outputs": [
    {
     "name": "stdout",
     "output_type": "stream",
     "text": [
      "20c is equal to 68.0 f\n"
     ]
    }
   ],
   "source": [
    "# Your code here\n",
    "celcius=int(input(\"Enter a temperature\"))\n",
    "\n",
    "farenheight = (celcius*1.8)+32\n",
    "\n",
    "print(f\"{celcius} c is equal to {farenheight} f\")\n"
   ]
  },
  {
   "cell_type": "markdown",
   "metadata": {},
   "source": [
    "**Question 9:** Write a Python program to concatenate two strings."
   ]
  },
  {
   "cell_type": "code",
   "execution_count": 13,
   "metadata": {},
   "outputs": [
    {
     "name": "stdout",
     "output_type": "stream",
     "text": [
      "zainy khan\n"
     ]
    }
   ],
   "source": [
    "# Your code here\n",
    "first_name=\"zainy\"\n",
    "last_name=\"khan\"\n",
    "print(first_name +\" \" + last_name)"
   ]
  },
  {
   "cell_type": "markdown",
   "metadata": {},
   "source": [
    "**Question 10:** Write a Python program to check if a variable is of a specific data type."
   ]
  },
  {
   "cell_type": "code",
   "execution_count": null,
   "metadata": {},
   "outputs": [],
   "source": [
    "# Your code here\n"
   ]
  },
  {
   "cell_type": "markdown",
   "metadata": {},
   "source": [
    "## 3. Basic Operators (Arithmetic, Comparison, Logical)\n",
    "\n",
    "**Question 11:** Write a Python program to perform arithmetic operations: addition, subtraction, multiplication, and division."
   ]
  },
  {
   "cell_type": "code",
   "execution_count": 2,
   "metadata": {},
   "outputs": [
    {
     "name": "stdout",
     "output_type": "stream",
     "text": [
      "0\n"
     ]
    }
   ],
   "source": [
    "# Your code here\n",
    "num1=int(input(\"Enter a first number\"))\n",
    "num2=int(input(\"Enter second number\"))\n",
    "\n",
    "operation=input(\"Enter operation (+,-,*,/,%)\")\n",
    "\n",
    "if operation == '+':\n",
    "    print(num1+num2)\n",
    "elif operation == '-':\n",
    "    print(num1-num2)\n",
    "elif operation == '*':\n",
    "    print(num1*num2)\n",
    "elif operation == '/':\n",
    "    print(num1/num2)\n",
    "else:\n",
    "    print(num1%num2)                \n"
   ]
  },
  {
   "cell_type": "markdown",
   "metadata": {},
   "source": [
    "**Question 12:** Write a Python program to demonstrate comparison operators: equal to, not equal to, greater than, less than."
   ]
  },
  {
   "cell_type": "code",
   "execution_count": 5,
   "metadata": {},
   "outputs": [
    {
     "name": "stdout",
     "output_type": "stream",
     "text": [
      "Yay! 1 is less than 2\n"
     ]
    }
   ],
   "source": [
    "# Your code here\n",
    "num1=int(input(\"Enter a first number\"))\n",
    "num2=int(input(\"Enter second number\"))\n",
    "\n",
    "operator = input(\"Enter operator (==,!=,<,>,)\")\n",
    "\n",
    "if operator == '==':\n",
    "    if num1 == num2:\n",
    "        print(f\"yay! {num1} is  equal {num2}\")\n",
    "    else:\n",
    "        print(f\"oops! {num1} is not equal to {num2}\")\n",
    "\n",
    "elif operator == '>':\n",
    "    if num1 > num2:\n",
    "        print(f\"yay! {num1} is greater than {num2}\")\n",
    "    else:\n",
    "        print(f\"oops! {num1} is not greater than {num2}\")\n",
    "\n",
    "elif operator == '<':\n",
    "    if num1 < num2:\n",
    "        print(f\"Yay! {num1} is less than {num2}\")\n",
    "    else:\n",
    "        print(f\"oops! {num1} is not less than {num2}\")              "
   ]
  },
  {
   "cell_type": "markdown",
   "metadata": {},
   "source": [
    "**Question 13:** Write a Python program to demonstrate logical operators: and, or, not."
   ]
  },
  {
   "cell_type": "code",
   "execution_count": 26,
   "metadata": {},
   "outputs": [
    {
     "name": "stdout",
     "output_type": "stream",
     "text": [
      "False\n"
     ]
    }
   ],
   "source": [
    "# Your code here\n",
    "\n",
    "num1=input(\"Enter a bool number\").strip().lower() == \"true\"\n",
    "num2 =input(\"Enter second bool number\").strip().lower == \"false\"\n",
    "\n",
    "if num1 and num2:\n",
    "    print(True)\n",
    "else:\n",
    "    print(False)    "
   ]
  },
  {
   "cell_type": "markdown",
   "metadata": {},
   "source": [
    "**Question 14:** Write a Python program to calculate the square of a number."
   ]
  },
  {
   "cell_type": "code",
   "execution_count": 16,
   "metadata": {},
   "outputs": [
    {
     "name": "stdout",
     "output_type": "stream",
     "text": [
      "4\n"
     ]
    }
   ],
   "source": [
    "# Your code here\n",
    "num=int(input(\"Enter a number\"))\n",
    "result=num*num\n",
    "print(result)"
   ]
  },
  {
   "cell_type": "markdown",
   "metadata": {},
   "source": [
    "**Question 15:** Write a Python program to check if a number is even or odd."
   ]
  },
  {
   "cell_type": "code",
   "execution_count": 15,
   "metadata": {},
   "outputs": [
    {
     "name": "stdout",
     "output_type": "stream",
     "text": [
      "even\n"
     ]
    }
   ],
   "source": [
    "# Your code here\n",
    "num=int(input(\"Enter a number\"))\n",
    "if num%2==0:\n",
    "    print(\"even\")\n",
    "else:\n",
    "    print(\"odd\")    "
   ]
  },
  {
   "cell_type": "markdown",
   "metadata": {},
   "source": [
    "**Question 16:** Write a Python program to find the sum of the first n natural numbers."
   ]
  },
  {
   "cell_type": "code",
   "execution_count": 18,
   "metadata": {},
   "outputs": [
    {
     "name": "stdout",
     "output_type": "stream",
     "text": [
      "6\n"
     ]
    }
   ],
   "source": [
    "# Your code here\n",
    "num=int(input(\"Enter a number\"))\n",
    "result=(num*(num+1))/2\n",
    "print(int(result))"
   ]
  },
  {
   "cell_type": "markdown",
   "metadata": {},
   "source": [
    "**Question 17:** Write a Python program to check if a year is a leap year."
   ]
  },
  {
   "cell_type": "code",
   "execution_count": null,
   "metadata": {},
   "outputs": [],
   "source": [
    "# Your code here\n",
    "\n"
   ]
  },
  {
   "cell_type": "markdown",
   "metadata": {},
   "source": [
    "**Question 18:** Write a Python program to reverse a string."
   ]
  },
  {
   "cell_type": "code",
   "execution_count": 9,
   "metadata": {},
   "outputs": [
    {
     "name": "stdout",
     "output_type": "stream",
     "text": [
      "y\n",
      "n\n",
      "i\n",
      "a\n",
      "z\n"
     ]
    }
   ],
   "source": [
    "# Your code here\n",
    "str=\"zainy\"\n",
    "lenn=str.__len__()\n",
    "\n",
    "while lenn:\n",
    "    print(str[lenn-1])\n",
    "    lenn=lenn-1"
   ]
  },
  {
   "cell_type": "markdown",
   "metadata": {},
   "source": [
    "**Question 19:** Write a Python program to check if a string is a palindrome."
   ]
  },
  {
   "cell_type": "code",
   "execution_count": 12,
   "metadata": {},
   "outputs": [
    {
     "name": "stdout",
     "output_type": "stream",
     "text": [
      "String is not palindrome\n"
     ]
    }
   ],
   "source": [
    "# Your code here\n",
    "str=\"zainy\"\n",
    "length=str.__len__()\n",
    "i=0\n",
    "j=length-1\n",
    "\n",
    "while i<j:\n",
    "    if str[i] != str[j]:\n",
    "        print(\"String is not palindrome\")\n",
    "        break\n",
    "        \n",
    "    i = i+1\n",
    "    j=j-1\n",
    "else:    \n",
    "  print(\"string is palindrome\")"
   ]
  },
  {
   "cell_type": "markdown",
   "metadata": {},
   "source": [
    "**Question 20:** Write a Python program to sort a list of numbers in ascending order."
   ]
  },
  {
   "cell_type": "code",
   "execution_count": 2,
   "metadata": {},
   "outputs": [
    {
     "name": "stdout",
     "output_type": "stream",
     "text": [
      "[0, 2, 4, 5, 6, 100]\n"
     ]
    }
   ],
   "source": [
    "# Your code here\n",
    "number = [100,5,4,2,0,6]\n",
    "\n",
    "number.sort()\n",
    "\n",
    "print(number)"
   ]
  },
  {
   "cell_type": "code",
   "execution_count": null,
   "metadata": {},
   "outputs": [],
   "source": []
  }
 ],
 "metadata": {
  "kernelspec": {
   "display_name": "Python 3",
   "language": "python",
   "name": "python3"
  },
  "language_info": {
   "codemirror_mode": {
    "name": "ipython",
    "version": 3
   },
   "file_extension": ".py",
   "mimetype": "text/x-python",
   "name": "python",
   "nbconvert_exporter": "python",
   "pygments_lexer": "ipython3",
   "version": "3.12.0"
  }
 },
 "nbformat": 4,
 "nbformat_minor": 4
}
